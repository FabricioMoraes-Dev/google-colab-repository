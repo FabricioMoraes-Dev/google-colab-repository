{
  "nbformat": 4,
  "nbformat_minor": 0,
  "metadata": {
    "colab": {
      "provenance": []
    },
    "kernelspec": {
      "name": "python3",
      "display_name": "Python 3"
    },
    "language_info": {
      "name": "python"
    }
  },
  "cells": [
    {
      "cell_type": "code",
      "execution_count": 1,
      "metadata": {
        "colab": {
          "base_uri": "https://localhost:8080/"
        },
        "id": "YM7xDSA-IqdB",
        "outputId": "8de8e556-0119-49b4-fb7b-68850a97a9be"
      },
      "outputs": [
        {
          "output_type": "stream",
          "name": "stdout",
          "text": [
            "Requirement already satisfied: pyspark in /usr/local/lib/python3.11/dist-packages (3.5.5)\n",
            "Requirement already satisfied: py4j==0.10.9.7 in /usr/local/lib/python3.11/dist-packages (from pyspark) (0.10.9.7)\n"
          ]
        }
      ],
      "source": [
        "!pip install pyspark"
      ]
    },
    {
      "cell_type": "code",
      "source": [
        "# Imports\n",
        "import os\n",
        "import pandas as pd\n",
        "from pyspark.sql import SparkSession\n",
        "from pyspark.sql.functions import *\n",
        "from google.colab import drive"
      ],
      "metadata": {
        "id": "Jds8g6v-JEZc"
      },
      "execution_count": 2,
      "outputs": []
    },
    {
      "cell_type": "code",
      "source": [
        "# Entry Point to Spark\n",
        "spark = (SparkSession\n",
        "         .builder\n",
        "         .master('local[*]')\n",
        "         .appName('Spark')\n",
        "         .getOrCreate())"
      ],
      "metadata": {
        "id": "99FRfVUaJLeY"
      },
      "execution_count": 3,
      "outputs": []
    },
    {
      "cell_type": "code",
      "source": [
        "# Google Drive connection\n",
        "drive.mount('/content/drive', force_remount=True)\n",
        "path = '/content/drive/MyDrive/cnpj/2024/_01JAN2024_31DEZ2024.csv'"
      ],
      "metadata": {
        "colab": {
          "base_uri": "https://localhost:8080/"
        },
        "id": "MXWQ6wzYMNjP",
        "outputId": "98944541-3fbd-4992-dafb-5a1b010840ba"
      },
      "execution_count": 4,
      "outputs": [
        {
          "output_type": "stream",
          "name": "stdout",
          "text": [
            "Mounted at /content/drive\n"
          ]
        }
      ]
    },
    {
      "cell_type": "code",
      "source": [
        "# Reading CSV file as Spark DataFrame\n",
        "df_pd = pd.read_csv(path, sep=\",\")\n",
        "df = (\n",
        "    spark\n",
        "    .createDataFrame(df_pd)\n",
        "    .drop(\"Identificador\")\n",
        "    .withColumnRenamed(\"Descrição\", \"Descricao\")\n",
        ")"
      ],
      "metadata": {
        "id": "cpLTPligNN8Z"
      },
      "execution_count": 5,
      "outputs": []
    },
    {
      "cell_type": "code",
      "source": [
        "df_ajusted = (df\n",
        "            .withColumn(\"Descricao\", upper(substr(\"Descricao\", lit(34), lit(4))))\n",
        "            .withColumn(\"Data\", date_format(to_date(\"Data\", \"dd/MM/yyyy\"), \"yyyyMM\"))\n",
        "            .withColumn(\"Valor\", regexp_replace(\"Valor\",\"-\",\"\").cast(\"double\"))\n",
        "            )"
      ],
      "metadata": {
        "id": "GoITkSophHMt"
      },
      "execution_count": 6,
      "outputs": []
    },
    {
      "cell_type": "code",
      "source": [
        "# Filter rows\n",
        "df_select = df_ajusted.filter(\"Descricao == 'FABR'\")"
      ],
      "metadata": {
        "id": "NyV82bTFpbSn"
      },
      "execution_count": 23,
      "outputs": []
    },
    {
      "cell_type": "code",
      "source": [
        "# Group and sum rows\n",
        "df_month = df_select.groupby(\"Data\").agg(sum(\"Valor\")).orderBy(asc(\"Data\"))"
      ],
      "metadata": {
        "id": "vE52RB9r3bJ6"
      },
      "execution_count": 31,
      "outputs": []
    },
    {
      "cell_type": "code",
      "source": [
        "# Total sum\n",
        "total = df_select.agg(sum(\"Valor\")).first()[0]"
      ],
      "metadata": {
        "id": "Z51ngqni4WCl"
      },
      "execution_count": 33,
      "outputs": []
    }
  ]
}